{
 "cells": [
  {
   "cell_type": "markdown",
   "metadata": {},
   "source": [
    "<img src=\"https://bit.ly/2VnXWr2\" width=\"100\" align=\"left\">"
   ]
  },
  {
   "cell_type": "markdown",
   "metadata": {},
   "source": [
    "# The Snail and the Well\n",
    "\n",
    "A snail falls at the bottom of a 125 cm well. Each day the snail rises 30 cm. But at night, while sleeping, slides 20 cm because the walls are wet. How many days does it take for the snail to escape the well?\n",
    "\n",
    "**Hint**: The snail gets out of the well when it surpasses the 125cm of height.\n",
    "\n",
    "## Tools\n",
    "\n",
    "1. Loop: **while**\n",
    "2. Conditional statements: **if-else**\n",
    "3. Function: **print()**\n",
    "\n",
    "## Tasks\n",
    "\n",
    "#### 1. Assign the challenge data to variables with representative names: `well_height`, `daily_distance`, `nightly_distance` and `snail_position`."
   ]
  },
  {
   "cell_type": "code",
   "execution_count": 16,
   "metadata": {},
   "outputs": [],
   "source": [
    "well_height = 125\n",
    "daily_distance = 30\n",
    "nightly_distance = 20\n",
    "snail_position = 0"
   ]
  },
  {
   "cell_type": "markdown",
   "metadata": {},
   "source": [
    "#### 2. Create a variable `days` to keep count of the days that pass until the snail escapes the well. "
   ]
  },
  {
   "cell_type": "code",
   "execution_count": 17,
   "metadata": {},
   "outputs": [],
   "source": [
    "days = 0"
   ]
  },
  {
   "cell_type": "markdown",
   "metadata": {},
   "source": [
    "#### 3. Find the solution to the challenge using the variables defined above. "
   ]
  },
  {
   "cell_type": "code",
   "execution_count": 18,
   "metadata": {},
   "outputs": [
    {
     "name": "stdout",
     "output_type": "stream",
     "text": [
      "1 day(s) have passed, the snail has reached 30 cm\n",
      "At the end of the night, the snail has slided back to 10 cm\n",
      "\n",
      "2 day(s) have passed, the snail has reached 40 cm\n",
      "At the end of the night, the snail has slided back to 20 cm\n",
      "\n",
      "3 day(s) have passed, the snail has reached 50 cm\n",
      "At the end of the night, the snail has slided back to 30 cm\n",
      "\n",
      "4 day(s) have passed, the snail has reached 60 cm\n",
      "At the end of the night, the snail has slided back to 40 cm\n",
      "\n",
      "5 day(s) have passed, the snail has reached 70 cm\n",
      "At the end of the night, the snail has slided back to 50 cm\n",
      "\n",
      "6 day(s) have passed, the snail has reached 80 cm\n",
      "At the end of the night, the snail has slided back to 60 cm\n",
      "\n",
      "7 day(s) have passed, the snail has reached 90 cm\n",
      "At the end of the night, the snail has slided back to 70 cm\n",
      "\n",
      "8 day(s) have passed, the snail has reached 100 cm\n",
      "At the end of the night, the snail has slided back to 80 cm\n",
      "\n",
      "9 day(s) have passed, the snail has reached 110 cm\n",
      "At the end of the night, the snail has slided back to 90 cm\n",
      "\n",
      "10 day(s) have passed, the snail has reached 120 cm\n",
      "At the end of the night, the snail has slided back to 100 cm\n",
      "\n"
     ]
    }
   ],
   "source": [
    "while snail_position < well_height :\n",
    "    snail_position += daily_distance\n",
    "    days += 1\n",
    "    \n",
    "    if snail_position <= well_height :\n",
    "        print(str(days)+\" day(s) have passed, the snail has reached \"+str(snail_position)+\" cm\")\n",
    "        snail_position -= nightly_distance\n",
    "        print(\"At the end of the night, the snail has slided back to \"+str(snail_position)+\" cm\\n\")\n",
    "        "
   ]
  },
  {
   "cell_type": "markdown",
   "metadata": {},
   "source": [
    "#### 4. Print the solution."
   ]
  },
  {
   "cell_type": "code",
   "execution_count": 19,
   "metadata": {},
   "outputs": [
    {
     "name": "stdout",
     "output_type": "stream",
     "text": [
      "Snail escaped the well after 11 days\n"
     ]
    }
   ],
   "source": [
    "print(\"Snail escaped the well after \"+str(days)+\" days\")"
   ]
  },
  {
   "cell_type": "markdown",
   "metadata": {},
   "source": [
    "## Bonus\n",
    "The distance traveled by the snail each day is now defined by a list.\n",
    "```\n",
    "advance_cm = [30, 21, 33, 77, 44, 45, 23, 45, 12, 34, 55]\n",
    "```\n",
    "On the first day, the snail rises 30cm but during the night it slides 20cm. On the second day, the snail rises 21cm but during the night it slides 20cm, and so on. \n",
    "\n",
    "#### 1. How many days does it take for the snail to escape the well?\n",
    "Follow the same guidelines as in the previous challenge.\n",
    "\n",
    "**Hint**: Remember that the snail gets out of the well when it surpasses the 125cm of height."
   ]
  },
  {
   "cell_type": "code",
   "execution_count": 20,
   "metadata": {},
   "outputs": [
    {
     "name": "stdout",
     "output_type": "stream",
     "text": [
      "1 day(s) have passed, the snail has reached 30 cm\n",
      "At the end of the night, the snail has slided back to 10 cm\n",
      "\n",
      "2 day(s) have passed, the snail has reached 31 cm\n",
      "At the end of the night, the snail has slided back to 11 cm\n",
      "\n",
      "3 day(s) have passed, the snail has reached 44 cm\n",
      "At the end of the night, the snail has slided back to 24 cm\n",
      "\n",
      "4 day(s) have passed, the snail has reached 101 cm\n",
      "At the end of the night, the snail has slided back to 81 cm\n",
      "\n",
      "5 day(s) have passed, the snail has reached 125 cm\n",
      "At the end of the night, the snail has slided back to 105 cm\n",
      "\n",
      "Snail escaped the well after 6 days\n"
     ]
    }
   ],
   "source": [
    "well_height = 125\n",
    "advance_cm = [30, 21, 33, 77, 44, 45, 23, 45, 12, 34, 55]\n",
    "nightly_distance = 20\n",
    "snail_position = 0\n",
    "\n",
    "days = 0\n",
    "\n",
    "while snail_position < well_height :\n",
    "    snail_position += advance_cm[days]\n",
    "    days += 1\n",
    "    \n",
    "    if snail_position <= well_height :\n",
    "        print(str(days)+\" day(s) have passed, the snail has reached \"+str(snail_position)+\" cm\")\n",
    "        snail_position -= nightly_distance\n",
    "        print(\"At the end of the night, the snail has slided back to \"+str(snail_position)+\" cm\\n\")\n",
    "        \n",
    "print(\"Snail escaped the well after \"+str(days)+\" days\")"
   ]
  },
  {
   "cell_type": "markdown",
   "metadata": {},
   "source": [
    "#### 2. What is its maximum displacement in one day? And its minimum? Calculate the displacement using only the travel distance of the days used to get out of the well. \n",
    "**Hint**: Remember that displacement means the total distance risen taking into account that the snail slides at night.  "
   ]
  },
  {
   "cell_type": "code",
   "execution_count": 21,
   "metadata": {},
   "outputs": [
    {
     "name": "stdout",
     "output_type": "stream",
     "text": [
      "1 day(s) have passed, the snail has reached 30 cm\n",
      "At the end of the night, the snail has slided back to 10 cm\n",
      "\n",
      "2 day(s) have passed, the snail has reached 31 cm\n",
      "At the end of the night, the snail has slided back to 11 cm\n",
      "\n",
      "3 day(s) have passed, the snail has reached 44 cm\n",
      "At the end of the night, the snail has slided back to 24 cm\n",
      "\n",
      "4 day(s) have passed, the snail has reached 101 cm\n",
      "At the end of the night, the snail has slided back to 81 cm\n",
      "\n",
      "5 day(s) have passed, the snail has reached 125 cm\n",
      "At the end of the night, the snail has slided back to 105 cm\n",
      "\n",
      "Snail escaped the well after 6 days\n",
      "\n",
      "Snail's maximum displacement in one day is 57 cm\n",
      "Snail's minimum displacement in one day is 1 cm\n"
     ]
    }
   ],
   "source": [
    "well_height = 125\n",
    "advance_cm = [30, 21, 33, 77, 44, 45, 23, 45, 12, 34, 55]\n",
    "nightly_distance = 20\n",
    "snail_position = 0\n",
    "\n",
    "days = 0\n",
    "\n",
    "displacement = []\n",
    "\n",
    "while snail_position < well_height :\n",
    "    snail_position += advance_cm[days]\n",
    "    displacement.append(advance_cm[days])\n",
    "    days += 1\n",
    "    \n",
    "    if snail_position <= well_height :\n",
    "        print(str(days)+\" day(s) have passed, the snail has reached \"+str(snail_position)+\" cm\")\n",
    "        snail_position -= nightly_distance\n",
    "        displacement[days-1]= displacement[days-1]-nightly_distance\n",
    "        print(\"At the end of the night, the snail has slided back to \"+str(snail_position)+\" cm\\n\")\n",
    "        \n",
    "print(\"Snail escaped the well after \"+str(days)+\" days\\n\")\n",
    "\n",
    "#removing the eventual surplus of displacement needed on the last day\n",
    "displacement[-1]=displacement[-1]-(sum(displacement)-well_height)\n",
    "\n",
    "print(\"Snail's maximum displacement in one day is \"+str(max(displacement))+\" cm\")\n",
    "print(\"Snail's minimum displacement in one day is \"+str(min(displacement))+\" cm\")"
   ]
  },
  {
   "cell_type": "markdown",
   "metadata": {},
   "source": [
    "#### 3. What is its average progress? Take into account the snail slides at night."
   ]
  },
  {
   "cell_type": "code",
   "execution_count": 22,
   "metadata": {},
   "outputs": [
    {
     "name": "stdout",
     "output_type": "stream",
     "text": [
      "Snail's average progress was 20.833333333333332 cm a day\n"
     ]
    }
   ],
   "source": [
    "average_progress = sum(displacement)/len(displacement)\n",
    "\n",
    "print(\"Snail's average progress was \"+str(average_progress)+ \" cm a day\")"
   ]
  },
  {
   "cell_type": "markdown",
   "metadata": {},
   "source": [
    "#### 4. What is the standard deviation of its displacement? Take into account the snail slides at night."
   ]
  },
  {
   "cell_type": "code",
   "execution_count": 31,
   "metadata": {},
   "outputs": [
    {
     "name": "stdout",
     "output_type": "stream",
     "text": [
      "The snail's displacement standard deviation is 19.44650782702814 cm\n"
     ]
    }
   ],
   "source": [
    "import statistics\n",
    "\n",
    "print(\"The snail's displacement standard deviation is \"+str(statistics.stdev(displacement))+\" cm\")"
   ]
  },
  {
   "cell_type": "code",
   "execution_count": null,
   "metadata": {},
   "outputs": [],
   "source": []
  }
 ],
 "metadata": {
  "kernelspec": {
   "display_name": "Python 3",
   "language": "python",
   "name": "python3"
  },
  "language_info": {
   "codemirror_mode": {
    "name": "ipython",
    "version": 3
   },
   "file_extension": ".py",
   "mimetype": "text/x-python",
   "name": "python",
   "nbconvert_exporter": "python",
   "pygments_lexer": "ipython3",
   "version": "3.7.4"
  }
 },
 "nbformat": 4,
 "nbformat_minor": 2
}
