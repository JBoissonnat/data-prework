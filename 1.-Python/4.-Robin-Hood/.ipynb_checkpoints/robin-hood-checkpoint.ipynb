{
 "cells": [
  {
   "cell_type": "markdown",
   "metadata": {},
   "source": [
    "<img src=\"https://bit.ly/2VnXWr2\" width=\"100\" align=\"left\"/>"
   ]
  },
  {
   "cell_type": "markdown",
   "metadata": {},
   "source": [
    "# Robin Hood\n",
    "Robin Hood has entered a competition to win the archery contest in Sherwood. With his bow and arrows, he needs to shoot on a target and try to hit as close as possible to the center.\n",
    "\n",
    "![](images/arrows.jpg)\n",
    "\n",
    "## Context\n",
    "In this challenge, the landing position of arrows shot by archers in the competition will be represented using 2-dimensional coordinates. \n",
    "\n",
    "In the 2-dimensional space, a point can be defined by a pair of values that correspond to the horizontal coordinate (x) and the vertical coordinate (y). For example, in our case, an arrow that hits the center of the archery target will land in position (0, 0) on the coordinate axes. \n",
    "\n",
    "The space can be divided into 4 zones (quadrants): Q1, Q2, Q3, Q4. If a point is in Q1, both its x coordinate and y coordinate are positive. Any point with a null x or y coordinate is considered to not belong to any quadrant. \n",
    "\n",
    "If you want to know more about the cartesian coordinate system, you can check this [link](https://en.wikipedia.org/wiki/Cartesian_coordinate_system). \n",
    "\n",
    "## Tools\n",
    "You don't necessarily need to use all the tools. Maybe you opt to use some of them or completely different ones, they are given to help you shape the exercise. Programming exercises can be solved in many different ways.\n",
    "* Data structures: **lists, sets, tuples**\n",
    "* Conditional statements: **if-elif-else**\n",
    "* Loop: **while/for**\n",
    "* Minimum (optional sorting)\n",
    "\n",
    "## Tasks\n",
    "Robin Hood has hit the following points:"
   ]
  },
  {
   "cell_type": "code",
   "execution_count": 1,
   "metadata": {},
   "outputs": [],
   "source": [
    "points = [(4, 5), (-0, 2), (4, 7), (1, -3), (3, -2), (4, 5), (3, 2), (5, 7), (-5, 7), (2, 2), (-4, 5), (0, -2),\n",
    "          (-4, 7), (-1, 3), (-3, 2), (-4, -5), (-3, 2), (5, 7), (5, 7), (2, 2), (9, 9), (-8, -9)]"
   ]
  },
  {
   "cell_type": "markdown",
   "metadata": {},
   "source": [
    "#### 1. Robin Hood is famous for hitting an arrow with another arrow. Find the coordinates of the points where an arrow hits another arrow."
   ]
  },
  {
   "cell_type": "code",
   "execution_count": 36,
   "metadata": {},
   "outputs": [
    {
     "name": "stdout",
     "output_type": "stream",
     "text": [
      "Coordinates of points where an arrow has hit another arrow : \n",
      "{(4, 5), (5, 7), (-3, 2), (2, 2)}\n"
     ]
    }
   ],
   "source": [
    "identical=[]\n",
    "\n",
    "for i in range(len(points)):\n",
    "    \n",
    "    for j in range(len(points)):\n",
    "                \n",
    "        if i!=j: # prevent append with same hitting point\n",
    "            if points[i][0] == points[j][0]: # test i first value with j first value\n",
    "                if points[i][1] == points[j][1]: # test i second value with j second value\n",
    "\n",
    "                    identical.append(points[i])\n",
    "\n",
    "unique_identical = set(identical) \n",
    "print(\"Coordinates of points where an arrow has hit another arrow : \\n\"+str(unique_identical))\n",
    "\n"
   ]
  },
  {
   "cell_type": "markdown",
   "metadata": {},
   "source": [
    "#### 2. Calculate how many arrows have fallen in each quadrant. \n",
    "**Note**: the arrows that fall in the axis (x=0 or y=0) don't belong to any quadrant."
   ]
  },
  {
   "cell_type": "code",
   "execution_count": 33,
   "metadata": {},
   "outputs": [
    {
     "name": "stdout",
     "output_type": "stream",
     "text": [
      "Quadrant 1 : 10 arrows\n",
      "[(4, 5), (4, 7), (4, 5), (3, 2), (5, 7), (2, 2), (5, 7), (5, 7), (2, 2), (9, 9)]\n",
      "\n",
      "Quadrant 2 : 6 arrows\n",
      "[(-5, 7), (-4, 5), (-4, 7), (-1, 3), (-3, 2), (-3, 2)]\n",
      "\n",
      "Quadrant 3 : 2 arrows\n",
      "[(-4, -5), (-8, -9)]\n",
      "\n",
      "Quadrant 4 : 2 arrows\n",
      "[(1, -3), (3, -2)]\n",
      "\n",
      "Not in any quadrant : 2 arrows\n",
      "[(0, 2), (0, -2)]\n",
      "\n"
     ]
    }
   ],
   "source": [
    "no_quadrant =[]\n",
    "q1 = []\n",
    "q2 = []\n",
    "q3 = []\n",
    "q4 = []\n",
    "\n",
    "for i in range(len(points)):\n",
    "    if (points[i][0] == 0) | (points[i][1] == 0):\n",
    "        no_quadrant.append(points[i])\n",
    "    elif points[i][0] > 0:\n",
    "        if points[i][1] > 0:\n",
    "            q1.append(points[i])\n",
    "        else:\n",
    "            q4.append(points[i])\n",
    "    elif points[i][0] < 0:\n",
    "        if points[i][1] < 0:\n",
    "            q3.append(points[i])\n",
    "        else:\n",
    "            q2.append(points[i])    \n",
    "            \n",
    "print(\"Quadrant 1 : \"+str(len(q1))+\" arrows\\n\"+str(q1)+\"\\n\")\n",
    "print(\"Quadrant 2 : \"+str(len(q2))+\" arrows\\n\"+str(q2)+\"\\n\")\n",
    "print(\"Quadrant 3 : \"+str(len(q3))+\" arrows\\n\"+str(q3)+\"\\n\")\n",
    "print(\"Quadrant 4 : \"+str(len(q4))+\" arrows\\n\"+str(q4)+\"\\n\")\n",
    "print(\"Not in any quadrant : \"+str(len(no_quadrant))+\" arrows\\n\"+str(no_quadrant)+\"\\n\")\n"
   ]
  },
  {
   "cell_type": "markdown",
   "metadata": {},
   "source": [
    "#### 3. Find the point closest to the center. Calculate its distance to the center. \n",
    "Take into account that there might be more than one point at the minimum distance to the center.\n",
    "\n",
    "**Hint**: Use the Euclidean distance. You can find more information about it [here](https://en.wikipedia.org/wiki/Euclidean_distance).  \n",
    "**Hint**: Defining a function that calculates the distance to the center can help."
   ]
  },
  {
   "cell_type": "code",
   "execution_count": 44,
   "metadata": {},
   "outputs": [
    {
     "name": "stdout",
     "output_type": "stream",
     "text": [
      "Point(s) closest to the center : ['(0, 2)', '(0, -2)']\n",
      "Distance to the center : 2.0\n"
     ]
    }
   ],
   "source": [
    "import math\n",
    "\n",
    "def dist_center(p): # function to calculate the distance to the center of a point\n",
    "    center = (0,0)\n",
    "    d_c = math.sqrt( (p[0]-center[0])**2 + (p[1]-center[1])**2  )\n",
    "    \n",
    "    return d_c\n",
    "\n",
    "dist_center_points =[]\n",
    "\n",
    "for i in range(len(points)): # calculation of all points' distance to the center\n",
    "    dist_center_points.append(dist_center(points[i]))\n",
    "\n",
    "dict_dcp = {} # creating an empty dictionnary for the distances to the center of points\n",
    "\n",
    "for i in range(len(points)): # filling the dictionary with points and their distance to the center\n",
    "    dict_dcp[str(points[i])] = dist_center_points[i]\n",
    "\n",
    "closest_center = []\n",
    "    \n",
    "for p, value_dc in dict_dcp.items(): # finding the points closest to the center in the dictionary by value\n",
    "    if value_dc == min(dist_center_points):\n",
    "        closest_center.append(p)\n",
    "\n",
    "print(\"Point(s) closest to the center : \"+str(closest_center)+\"\\nDistance to the center : \"+str(min(dist_center_points)))"
   ]
  },
  {
   "cell_type": "markdown",
   "metadata": {},
   "source": [
    "#### 4. If the archery target has a radius of 9, calculate the number of arrows that won't hit the target. \n",
    "**Hint**: Use the function created in step 3. "
   ]
  },
  {
   "cell_type": "code",
   "execution_count": 48,
   "metadata": {},
   "outputs": [
    {
     "name": "stdout",
     "output_type": "stream",
     "text": [
      "2 arrows won't hit the target : \n",
      "[(9, 9), (-8, -9)]\n",
      "Their distance to the center : \n",
      "[12.727922061357855, 12.041594578792296]\n"
     ]
    }
   ],
   "source": [
    "arrow_out = 0\n",
    "lst_arrow_out = []\n",
    "lst_arrow_out_dc = []\n",
    "\n",
    "for i in range(len(dist_center_points)): # finding the number of arrows that won't hit target, their coordinates and distance to the center\n",
    "    if dist_center_points[i] > 9:\n",
    "        arrow_out += 1\n",
    "        lst_arrow_out.append(points[i])\n",
    "        lst_arrow_out_dc.append(dist_center_points[i])\n",
    "\n",
    "print(str(arrow_out)+\" arrows won't hit the target : \\n\"+str(lst_arrow_out))\n",
    "print(\"Their distance to the center : \\n\"+str(lst_arrow_out_dc))"
   ]
  },
  {
   "cell_type": "code",
   "execution_count": null,
   "metadata": {},
   "outputs": [],
   "source": []
  }
 ],
 "metadata": {
  "kernelspec": {
   "display_name": "Python 3",
   "language": "python",
   "name": "python3"
  },
  "language_info": {
   "codemirror_mode": {
    "name": "ipython",
    "version": 3
   },
   "file_extension": ".py",
   "mimetype": "text/x-python",
   "name": "python",
   "nbconvert_exporter": "python",
   "pygments_lexer": "ipython3",
   "version": "3.7.4"
  }
 },
 "nbformat": 4,
 "nbformat_minor": 2
}
